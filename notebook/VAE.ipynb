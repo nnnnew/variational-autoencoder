{
 "cells": [
  {
   "cell_type": "code",
   "execution_count": 26,
   "metadata": {},
   "outputs": [],
   "source": [
    "import tensorflow as tf\n",
    "from tensorflow import keras\n",
    "\n",
    "import numpy as np\n",
    "import matplotlib.pyplot as plt\n",
    "import random\n",
    "import argparse\n",
    "import os\n",
    "import json\n",
    "\n",
    "from keras.layers import Lambda, Input, Dense\n",
    "from keras.models import Model\n",
    "from keras.datasets import mnist\n",
    "from keras.losses import mse, binary_crossentropy\n",
    "from keras.utils import plot_model\n",
    "from keras import backend as K"
   ]
  },
  {
   "cell_type": "markdown",
   "metadata": {},
   "source": [
    "# Load data"
   ]
  },
  {
   "cell_type": "code",
   "execution_count": 2,
   "metadata": {},
   "outputs": [],
   "source": [
    "(x_train, y_train), (x_test, y_test) = tf.keras.datasets.fashion_mnist.load_data()"
   ]
  },
  {
   "cell_type": "code",
   "execution_count": 3,
   "metadata": {},
   "outputs": [
    {
     "name": "stdout",
     "output_type": "stream",
     "text": [
      "x_train shape: (60000, 28, 28) y_train shape: (60000,)\n"
     ]
    }
   ],
   "source": [
    "print(\"x_train shape:\", x_train.shape, \"y_train shape:\", y_train.shape)"
   ]
  },
  {
   "cell_type": "code",
   "execution_count": 4,
   "metadata": {},
   "outputs": [
    {
     "data": {
      "text/plain": [
       "<matplotlib.image.AxesImage at 0xb2d106c50>"
      ]
     },
     "execution_count": 4,
     "metadata": {},
     "output_type": "execute_result"
    },
    {
     "data": {
      "image/png": "[encoded data removed]",
      "text/plain": [
       "<Figure size 432x288 with 1 Axes>"
      ]
     },
     "metadata": {
      "needs_background": "light"
     },
     "output_type": "display_data"
    }
   ],
   "source": [
    "plt.imshow(x_train[random.randint(0, x_train.shape[0])], cmap='gray')"
   ]
  },
  {
   "cell_type": "code",
   "execution_count": 5,
   "metadata": {},
   "outputs": [],
   "source": [
    "x_train = x_train.astype('float32') / 255\n",
    "x_test = x_test.astype('float32') / 255"
   ]
  },
  {
   "cell_type": "markdown",
   "metadata": {},
   "source": [
    "# Define params and helper"
   ]
  },
  {
   "cell_type": "code",
   "execution_count": 6,
   "metadata": {},
   "outputs": [],
   "source": [
    "img_size_ori = x_train.shape[1]\n",
    "x_train = np.reshape(x_train, [-1, img_size_ori])\n",
    "x_test = np.reshape(x_test, [-1, img_size_ori])\n",
    "x_train = x_train.astype('float32') / 255.\n",
    "x_test = x_test.astype('float32') / 255."
   ]
  },
  {
   "cell_type": "markdown",
   "metadata": {},
   "source": [
    "# Define Model"
   ]
  },
  {
   "cell_type": "code",
   "execution_count": 7,
   "metadata": {},
   "outputs": [],
   "source": [
    "def sampling(args):\n",
    "    \"\"\"Reparameterization trick by sampling fr an isotropic unit Gaussian.\n",
    "    # Arguments:\n",
    "        args (tensor): mean and log of variance of Q(z|X)\n",
    "    # Returns:\n",
    "        z (tensor): sampled latent vector\n",
    "    \"\"\"\n",
    "\n",
    "    z_mean, z_log_var = args\n",
    "    batch = K.shape(z_mean)[0]\n",
    "    dim = K.int_shape(z_mean)[1]\n",
    "    # by default, random_normal has mean=0 and std=1.0\n",
    "    epsilon = K.random_normal(shape=(batch, dim))\n",
    "    return z_mean + K.exp(0.5 * z_log_var) * epsilon"
   ]
  },
  {
   "cell_type": "markdown",
   "metadata": {},
   "source": [
    "## Encoder part"
   ]
  },
  {
   "cell_type": "code",
   "execution_count": 8,
   "metadata": {},
   "outputs": [],
   "source": [
    "input_shape = (img_size_ori, )\n",
    "intermediate_dim = 512\n",
    "batch_size = 128\n",
    "latent_dim = 2\n",
    "epochs = 50"
   ]
  },
  {
   "cell_type": "code",
   "execution_count": 15,
   "metadata": {},
   "outputs": [],
   "source": [
    "\n",
    "# VAE model = encoder + decoder\n",
    "# build encoder model\n",
    "inputs = Input(shape=input_shape, name='encoder_input')\n",
    "x = Dense(intermediate_dim, activation='relu')(inputs)\n",
    "z_mean = Dense(latent_dim, name='z_mean')(x)\n",
    "z_log_var = Dense(latent_dim, name='z_log_var')(x)\n",
    "\n",
    "# use reparameterization trick to push the sampling out as input\n",
    "# note that \"output_shape\" isn't necessary with the TensorFlow backend\n",
    "z = Lambda(sampling, output_shape=(latent_dim,), name='z')([z_mean, z_log_var])\n",
    "\n",
    "# instantiate encoder model\n",
    "encoder = Model(inputs, [z_mean, z_log_var, z], name='encoder')\n",
    "    \n",
    "# build decoder model\n",
    "latent_inputs = Input(shape=(latent_dim,), name='z_sampling')\n",
    "x = Dense(intermediate_dim, activation='relu')(latent_inputs)\n",
    "outputs = Dense(img_size_ori, activation='sigmoid')(x)\n",
    "\n",
    "# instantiate decoder model\n",
    "decoder = Model(latent_inputs, outputs, name='decoder')\n",
    "    \n",
    "# instantiate VAE model\n",
    "outputs = decoder(encoder(inputs)[2])\n",
    "vae = Model(inputs, outputs, name='vae_mlp')"
   ]
  },
  {
   "cell_type": "code",
   "execution_count": 20,
   "metadata": {},
   "outputs": [
    {
     "name": "stdout",
     "output_type": "stream",
     "text": [
      "_________________________________________________________________\n",
      "Layer (type)                 Output Shape              Param #   \n",
      "=================================================================\n",
      "encoder_input (InputLayer)   (None, 28)                0         \n",
      "_________________________________________________________________\n",
      "encoder (Model)              [(None, 2), (None, 2), (N 16900     \n",
      "_________________________________________________________________\n",
      "decoder (Model)              (None, 28)                15900     \n",
      "=================================================================\n",
      "Total params: 32,800\n",
      "Trainable params: 32,800\n",
      "Non-trainable params: 0\n",
      "_________________________________________________________________\n"
     ]
    }
   ],
   "source": [
    "vae.summary()"
   ]
  },
  {
   "cell_type": "code",
   "execution_count": 21,
   "metadata": {},
   "outputs": [],
   "source": [
    "# Define Loss"
   ]
  },
  {
   "cell_type": "code",
   "execution_count": 22,
   "metadata": {},
   "outputs": [],
   "source": [
    "reconstruction_loss = mse(inputs, outputs)\n",
    "reconstruction_loss *= img_size_ori\n",
    "\n",
    "kl_loss = 1 + z_log_var - K.square(z_mean) - K.exp(z_log_var)\n",
    "kl_loss = K.sum(kl_loss, axis=-1)\n",
    "kl_loss *= -0.5\n",
    "vae_loss = K.mean(reconstruction_loss + kl_loss)\n",
    "vae.add_loss(vae_loss)"
   ]
  },
  {
   "cell_type": "code",
   "execution_count": 23,
   "metadata": {},
   "outputs": [],
   "source": [
    "vae.compile(optimizer='adam')"
   ]
  },
  {
   "cell_type": "code",
   "execution_count": 24,
   "metadata": {},
   "outputs": [
    {
     "name": "stdout",
     "output_type": "stream",
     "text": [
      "Train on 1680000 samples, validate on 280000 samples\n",
      "Epoch 1/50\n",
      "1680000/1680000 [==============================] - 25s 15us/step - loss: 0.0287 - val_loss: 8.7956e-05\n",
      "Epoch 2/50\n",
      "1680000/1680000 [==============================] - 23s 14us/step - loss: 8.4703e-05 - val_loss: 8.4086e-05\n",
      "Epoch 3/50\n",
      "1680000/1680000 [==============================] - 23s 14us/step - loss: 8.4501e-05 - val_loss: 8.4109e-05\n",
      "Epoch 4/50\n",
      "1680000/1680000 [==============================] - 25s 15us/step - loss: 8.4502e-05 - val_loss: 8.4238e-05\n",
      "Epoch 5/50\n",
      "1680000/1680000 [==============================] - 24s 14us/step - loss: 8.4479e-05 - val_loss: 8.4130e-05\n",
      "Epoch 6/50\n",
      "1680000/1680000 [==============================] - 24s 14us/step - loss: 8.4459e-05 - val_loss: 8.4334e-05\n",
      "Epoch 7/50\n",
      "1680000/1680000 [==============================] - 27s 16us/step - loss: 8.4442e-05 - val_loss: 8.4261e-05\n",
      "Epoch 8/50\n",
      "1680000/1680000 [==============================] - 25s 15us/step - loss: 8.4416e-05 - val_loss: 8.3995e-05\n",
      "Epoch 9/50\n",
      "1680000/1680000 [==============================] - 26s 15us/step - loss: 8.4394e-05 - val_loss: 8.4225e-05\n",
      "Epoch 10/50\n",
      "1680000/1680000 [==============================] - 26s 15us/step - loss: 8.4371e-05 - val_loss: 8.4036e-05\n",
      "Epoch 11/50\n",
      "1680000/1680000 [==============================] - 22s 13us/step - loss: 8.4361e-05 - val_loss: 8.4039e-05\n",
      "Epoch 12/50\n",
      "1680000/1680000 [==============================] - 21s 13us/step - loss: 8.4340e-05 - val_loss: 8.3955e-05\n",
      "Epoch 13/50\n",
      "1680000/1680000 [==============================] - 22s 13us/step - loss: 8.4323e-05 - val_loss: 8.4108e-05\n",
      "Epoch 14/50\n",
      "1680000/1680000 [==============================] - 27s 16us/step - loss: 8.4316e-05 - val_loss: 8.4073e-05\n",
      "Epoch 15/50\n",
      "1680000/1680000 [==============================] - 23s 14us/step - loss: 8.4316e-05 - val_loss: 8.3942e-05\n",
      "Epoch 16/50\n",
      "1680000/1680000 [==============================] - 25s 15us/step - loss: 8.4298e-05 - val_loss: 8.3986e-05\n",
      "Epoch 17/50\n",
      "1680000/1680000 [==============================] - 25s 15us/step - loss: 8.4289e-05 - val_loss: 8.4008e-05\n",
      "Epoch 18/50\n",
      "1680000/1680000 [==============================] - 23s 13us/step - loss: 8.4277e-05 - val_loss: 8.3963e-05\n",
      "Epoch 19/50\n",
      "1680000/1680000 [==============================] - 22s 13us/step - loss: 8.4274e-05 - val_loss: 8.3892e-05\n",
      "Epoch 20/50\n",
      "1680000/1680000 [==============================] - 22s 13us/step - loss: 8.4263e-05 - val_loss: 8.4140e-05\n",
      "Epoch 21/50\n",
      "1680000/1680000 [==============================] - 24s 14us/step - loss: 8.4260e-05 - val_loss: 8.3970e-05\n",
      "Epoch 22/50\n",
      "1680000/1680000 [==============================] - 23s 14us/step - loss: 8.4256e-05 - val_loss: 8.3940e-05\n",
      "Epoch 23/50\n",
      "1680000/1680000 [==============================] - 23s 14us/step - loss: 8.4252e-05 - val_loss: 8.4046e-05\n",
      "Epoch 24/50\n",
      "1680000/1680000 [==============================] - 24s 14us/step - loss: 8.4249e-05 - val_loss: 8.3898e-05\n",
      "Epoch 25/50\n",
      "1680000/1680000 [==============================] - 23s 14us/step - loss: 8.4236e-05 - val_loss: 8.3907e-05\n",
      "Epoch 26/50\n",
      "1680000/1680000 [==============================] - 25s 15us/step - loss: 8.4241e-05 - val_loss: 8.3935e-05\n",
      "Epoch 27/50\n",
      "1680000/1680000 [==============================] - 22s 13us/step - loss: 8.4237e-05 - val_loss: 8.4145e-05\n",
      "Epoch 28/50\n",
      "1680000/1680000 [==============================] - 21s 13us/step - loss: 8.4234e-05 - val_loss: 8.3893e-05\n",
      "Epoch 29/50\n",
      "1680000/1680000 [==============================] - 23s 13us/step - loss: 8.4228e-05 - val_loss: 8.3933e-05\n",
      "Epoch 30/50\n",
      "1680000/1680000 [==============================] - 22s 13us/step - loss: 8.4229e-05 - val_loss: 8.3890e-05\n",
      "Epoch 31/50\n",
      "1680000/1680000 [==============================] - 23s 14us/step - loss: 8.4224e-05 - val_loss: 8.4002e-05\n",
      "Epoch 32/50\n",
      "1680000/1680000 [==============================] - 24s 14us/step - loss: 8.4226e-05 - val_loss: 8.3889e-05\n",
      "Epoch 33/50\n",
      "1680000/1680000 [==============================] - 23s 14us/step - loss: 8.4220e-05 - val_loss: 8.3871e-05\n",
      "Epoch 34/50\n",
      "1680000/1680000 [==============================] - 25s 15us/step - loss: 8.4219e-05 - val_loss: 8.3922e-05\n",
      "Epoch 35/50\n",
      "1680000/1680000 [==============================] - 24s 14us/step - loss: 8.4215e-05 - val_loss: 8.3986e-05\n",
      "Epoch 36/50\n",
      "1680000/1680000 [==============================] - 23s 14us/step - loss: 8.4217e-05 - val_loss: 8.3985e-05\n",
      "Epoch 37/50\n",
      "1680000/1680000 [==============================] - 23s 14us/step - loss: 8.4212e-05 - val_loss: 8.4013e-05\n",
      "Epoch 38/50\n",
      "1680000/1680000 [==============================] - 25s 15us/step - loss: 8.4216e-05 - val_loss: 8.4010e-05\n",
      "Epoch 39/50\n",
      "1680000/1680000 [==============================] - 25s 15us/step - loss: 8.4207e-05 - val_loss: 8.3888e-05\n",
      "Epoch 40/50\n",
      "1680000/1680000 [==============================] - 25s 15us/step - loss: 8.4208e-05 - val_loss: 8.4056e-05\n",
      "Epoch 41/50\n",
      "1680000/1680000 [==============================] - 24s 14us/step - loss: 8.4206e-05 - val_loss: 8.3887e-05\n",
      "Epoch 42/50\n",
      "1680000/1680000 [==============================] - 24s 14us/step - loss: 8.4209e-05 - val_loss: 8.3894e-05\n",
      "Epoch 43/50\n",
      "1680000/1680000 [==============================] - 26s 16us/step - loss: 8.4203e-05 - val_loss: 8.3883e-05\n",
      "Epoch 44/50\n",
      "1680000/1680000 [==============================] - 26s 15us/step - loss: 8.4205e-05 - val_loss: 8.3903e-05\n",
      "Epoch 45/50\n",
      "1680000/1680000 [==============================] - 25s 15us/step - loss: 8.4201e-05 - val_loss: 8.4083e-05\n",
      "Epoch 46/50\n",
      "1680000/1680000 [==============================] - 25s 15us/step - loss: 8.4206e-05 - val_loss: 8.3988e-05\n",
      "Epoch 47/50\n",
      "1680000/1680000 [==============================] - 25s 15us/step - loss: 8.4202e-05 - val_loss: 8.3893e-05\n",
      "Epoch 48/50\n",
      "1680000/1680000 [==============================] - 25s 15us/step - loss: 8.4203e-05 - val_loss: 8.3908e-05\n",
      "Epoch 49/50\n",
      "1680000/1680000 [==============================] - 24s 14us/step - loss: 8.4200e-05 - val_loss: 8.3907e-05\n",
      "Epoch 50/50\n",
      "1680000/1680000 [==============================] - 23s 14us/step - loss: 8.4199e-05 - val_loss: 8.3942e-05\n"
     ]
    },
    {
     "data": {
      "text/plain": [
       "<keras.callbacks.History at 0xb2f23a630>"
      ]
     },
     "execution_count": 24,
     "metadata": {},
     "output_type": "execute_result"
    }
   ],
   "source": [
    "vae.fit(x_train,\n",
    "        epochs=epochs,\n",
    "        batch_size=batch_size,\n",
    "        validation_data=(x_test, None))"
   ]
  },
  {
   "cell_type": "code",
   "execution_count": 25,
   "metadata": {},
   "outputs": [],
   "source": [
    "vae.save_weights('../model/vae_mlp_fsmnist.h5')"
   ]
  },
  {
   "cell_type": "code",
   "execution_count": null,
   "metadata": {},
   "outputs": [],
   "source": []
  }
 ],
 "metadata": {
  "kernelspec": {
   "display_name": "Python 3",
   "language": "python",
   "name": "python3"
  },
  "language_info": {
   "codemirror_mode": {
    "name": "ipython",
    "version": 3
   },
   "file_extension": ".py",
   "mimetype": "text/x-python",
   "name": "python",
   "nbconvert_exporter": "python",
   "pygments_lexer": "ipython3",
   "version": "3.6.8"
  }
 },
 "nbformat": 4,
 "nbformat_minor": 2
}
